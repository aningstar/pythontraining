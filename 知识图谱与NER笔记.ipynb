{
 "cells": [
  {
   "cell_type": "markdown",
   "metadata": {},
   "source": [
    "# 知识图谱与NER笔记"
   ]
  },
  {
   "cell_type": "markdown",
   "metadata": {},
   "source": [
    "## 论文"
   ]
  },
  {
   "cell_type": "markdown",
   "metadata": {},
   "source": [
    "- [论文索引](https://www.aclweb.org/anthology/D19-3029/) An Open and Extensible Toolkit for Neural Relation Extraction\n",
    "- [Must-read papers on NRE](https://github.com/thunlp/NREPapers)"
   ]
  },
  {
   "cell_type": "markdown",
   "metadata": {},
   "source": [
    "## 入门文章"
   ]
  },
  {
   "cell_type": "markdown",
   "metadata": {},
   "source": [
    "- [这是一份通俗易懂的知识图谱技术与应用指南](https://www.jiqizhixin.com/articles/2018-06-20-4)\n",
    "- [为什么需要知识图谱？什么是知识图谱？](https://zhuanlan.zhihu.com/p/31726910) ——KG的前世今生\n",
    "- [知识图谱怎样入门？](https://www.zhihu.com/question/52368821/answer/138745422)\n",
    "- [知识图谱从哪里来：实体关系抽取的现状与未来](https://www.thepaper.cn/newsDetail_forward_4990048)\n",
    "- [一文读懂知识图谱（初学篇）](https://zhuanlan.zhihu.com/p/37057052)\n",
    "- [把知识变成图谱一共需要花几步？89页全网最全清华知识图谱报告](https://zhuanlan.zhihu.com/p/56903119)\n",
    "- [知乎知识图谱专题](https://www.zhihu.com/topic/19838204/top-answers)\n",
    "- [如何评价 Peak Labs 出品的 2019 版 Magi 搜索引擎？](https://www.zhihu.com/question/354059866/answer/881655371)\n",
    "- [介绍一些知识图谱的实际应用类项目](https://zhuanlan.zhihu.com/p/164626545)\n",
    "- [知识图谱基础之RDF，RDFS与OWL](https://zhuanlan.zhihu.com/p/32122644)"
   ]
  },
  {
   "cell_type": "markdown",
   "metadata": {},
   "source": [
    "## 具体工具学习与入门"
   ]
  },
  {
   "cell_type": "markdown",
   "metadata": {},
   "source": [
    "- [OpenNRE](https://github.com/ShulinCao/OpenNRE-PyTorch) Pytorch version\n",
    "- [OpenNRE](http://github.com/thunlp/OpenNRE)\n",
    "- [标注工具](https://github.com/nlplab/brat) [Web Site](http://brat.nlplab.org/introduction.html)\n",
    "- [Neo4j入门之中国电影票房排行浅析](https://www.jianshu.com/p/ca6e612771d6)\n",
    "- [neo4j 教程](https://www.w3cschool.cn/neo4j/)"
   ]
  },
  {
   "cell_type": "code",
   "execution_count": null,
   "metadata": {},
   "outputs": [],
   "source": []
  }
 ],
 "metadata": {
  "kernelspec": {
   "display_name": "tensorflow2",
   "language": "python",
   "name": "tensorflow2"
  },
  "toc": {
   "base_numbering": 1,
   "nav_menu": {},
   "number_sections": true,
   "sideBar": true,
   "skip_h1_title": false,
   "title_cell": "Table of Contents",
   "title_sidebar": "Contents",
   "toc_cell": false,
   "toc_position": {},
   "toc_section_display": true,
   "toc_window_display": false
  }
 },
 "nbformat": 4,
 "nbformat_minor": 4
}
